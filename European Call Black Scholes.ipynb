{
 "cells": [
  {
   "cell_type": "code",
   "execution_count": 1,
   "id": "69ddacdb",
   "metadata": {},
   "outputs": [],
   "source": [
    "import math\n",
    "from scipy.stats import norm"
   ]
  },
  {
   "cell_type": "code",
   "execution_count": 2,
   "id": "cbfa1867",
   "metadata": {},
   "outputs": [],
   "source": [
    "class EuropeanCall:\n",
    "\n",
    "    def call_price(\n",
    "        self, asset_price, asset_volatility, strike_price,\n",
    "        time_to_expiration, risk_free_rate\n",
    "            ):\n",
    "        b = math.exp(-risk_free_rate*time_to_expiration)\n",
    "        x1 = math.log(asset_price/(b*strike_price)) + .5*(asset_volatility*asset_volatility)*time_to_expiration\n",
    "        x1 = x1/(asset_volatility*(time_to_expiration**.5))\n",
    "        z1 = norm.cdf(x1)\n",
    "        z1 = z1*asset_price\n",
    "        x2 = math.log(asset_price/(b*strike_price)) - .5*(asset_volatility*asset_volatility)*time_to_expiration\n",
    "        x2 = x2/(asset_volatility*(time_to_expiration**.5))\n",
    "        z2 = norm.cdf(x2)\n",
    "        z2 = b*strike_price*z2\n",
    "        return z1 - z2\n",
    "\n",
    "    def __init__(\n",
    "        self, asset_price, asset_volatility, strike_price,\n",
    "        time_to_expiration, risk_free_rate\n",
    "            ):\n",
    "        self.asset_price = asset_price\n",
    "        self.asset_volatility = asset_volatility\n",
    "        self.strike_price = strike_price\n",
    "        self.time_to_expiration = time_to_expiration\n",
    "        self.risk_free_rate = risk_free_rate\n",
    "        self.price = self.call_price(asset_price, asset_volatility, strike_price, time_to_expiration, risk_free_rate)\n",
    "        \n",
    "\n",
    "class EuropeanPut:\n",
    "\n",
    "    def put_price(\n",
    "        self, asset_price, asset_volatility, strike_price,\n",
    "        time_to_expiration, risk_free_rate\n",
    "            ):\n",
    "        b = math.exp(-risk_free_rate*time_to_expiration)\n",
    "        x1 = math.log((b*strike_price)/asset_price) + .5*(asset_volatility*asset_volatility)*time_to_expiration\n",
    "        x1 = x1/(asset_volatility*(time_to_expiration**.5))\n",
    "        z1 = norm.cdf(x1)\n",
    "        z1 = b*strike_price*z1\n",
    "        x2 = math.log((b*strike_price)/asset_price) - .5*(asset_volatility*asset_volatility)*time_to_expiration\n",
    "        x2 = x2/(asset_volatility*(time_to_expiration**.5))\n",
    "        z2 = norm.cdf(x2)\n",
    "        z2 = asset_price*z2\n",
    "        return z1 - z2\n",
    "\n",
    "    def __init__(\n",
    "        self, asset_price, asset_volatility, strike_price,\n",
    "        time_to_expiration, risk_free_rate\n",
    "            ):\n",
    "        self.asset_price = asset_price\n",
    "        self.asset_volatility = asset_volatility\n",
    "        self.strike_price = strike_price\n",
    "        self.time_to_expiration = time_to_expiration\n",
    "        self.risk_free_rate = risk_free_rate\n",
    "        self.price = self.put_price(asset_price, asset_volatility, strike_price, time_to_expiration, risk_free_rate)"
   ]
  },
  {
   "cell_type": "code",
   "execution_count": 3,
   "id": "decae5eb",
   "metadata": {},
   "outputs": [
    {
     "name": "stdout",
     "output_type": "stream",
     "text": [
      "12.368267463784072\n"
     ]
    }
   ],
   "source": [
    "ec = EuropeanCall(100, .3, 100, 1, .01)\n",
    "print(ec.price)"
   ]
  },
  {
   "cell_type": "code",
   "execution_count": null,
   "id": "054489d3",
   "metadata": {},
   "outputs": [],
   "source": []
  }
 ],
 "metadata": {
  "kernelspec": {
   "display_name": "Python 3 (ipykernel)",
   "language": "python",
   "name": "python3"
  },
  "language_info": {
   "codemirror_mode": {
    "name": "ipython",
    "version": 3
   },
   "file_extension": ".py",
   "mimetype": "text/x-python",
   "name": "python",
   "nbconvert_exporter": "python",
   "pygments_lexer": "ipython3",
   "version": "3.9.7"
  }
 },
 "nbformat": 4,
 "nbformat_minor": 5
}
